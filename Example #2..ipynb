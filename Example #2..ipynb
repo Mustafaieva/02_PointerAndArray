{
  "nbformat": 4,
  "nbformat_minor": 0,
  "metadata": {
    "colab": {
      "name": "Untitled4.ipynb",
      "version": "0.3.2",
      "provenance": [],
      "include_colab_link": true
    },
    "kernelspec": {
      "name": "python2",
      "display_name": "Python 2"
    }
  },
  "cells": [
    {
      "cell_type": "markdown",
      "metadata": {
        "id": "view-in-github",
        "colab_type": "text"
      },
      "source": [
        "<a href=\"https://colab.research.google.com/github/Mustafaieva/02_PointerAndArray/blob/master/Example%20%232..ipynb\" target=\"_parent\"><img src=\"https://colab.research.google.com/assets/colab-badge.svg\" alt=\"Open In Colab\"/></a>"
      ]
    },
    {
      "metadata": {
        "id": "SM6FpL6I9zSV",
        "colab_type": "code",
        "colab": {}
      },
      "cell_type": "code",
      "source": [
        "#include <stdio.h>\n",
        "\n",
        "\n",
        "int main()\n",
        " {\n",
        "\n",
        "    short a;\n",
        "    int b;\n",
        "    long c;\n",
        "    char d;\n",
        "\n",
        "    printf(\"sizeof(a) : %d\\n\", sizeof(a));\n",
        "    printf(\"sizeof(b) : %d\\n\", sizeof(b));\n",
        "    printf(\"sizeof(c) : %d\\n\", sizeof(c));\n",
        "    printf(\"sizeof(d) : %d\\n\", sizeof(d));\n",
        "return 0;\n",
        "}\n"
      ],
      "execution_count": 0,
      "outputs": []
    },
    {
      "metadata": {
        "id": "jQxaW3lK90oA",
        "colab_type": "text"
      },
      "cell_type": "markdown",
      "source": [
        "# Sizeof () in C\n",
        "When the sizeof () is used with an expression, it returns the size of the expression or type in bytes.\n",
        "\n",
        "This code tells the compiler to print out the size of the variables:\n",
        "\n",
        ">  printf(\"sizeof(a) : %d\\n\", sizeof(a));\n",
        "\n",
        "    printf(\"sizeof(b) : %d\\n\", sizeof(b));\n",
        "    \n",
        "    printf(\"sizeof(c) : %d\\n\", sizeof(c));\n",
        "    \n",
        "    printf(\"sizeof(d) : %d\\n\", sizeof(d));\n",
        "\n",
        "Note: sizeof() may give different output according to machine.\n",
        "\n"
      ]
    }
  ]
}