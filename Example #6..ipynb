{
  "nbformat": 4,
  "nbformat_minor": 0,
  "metadata": {
    "colab": {
      "name": "Untitled8.ipynb",
      "version": "0.3.2",
      "provenance": [],
      "include_colab_link": true
    },
    "kernelspec": {
      "name": "python2",
      "display_name": "Python 2"
    }
  },
  "cells": [
    {
      "cell_type": "markdown",
      "metadata": {
        "id": "view-in-github",
        "colab_type": "text"
      },
      "source": [
        "<a href=\"https://colab.research.google.com/github/Mustafaieva/02_PointerAndArray/blob/master/Example%20%236..ipynb\" target=\"_parent\"><img src=\"https://colab.research.google.com/assets/colab-badge.svg\" alt=\"Open In Colab\"/></a>"
      ]
    },
    {
      "metadata": {
        "id": "g7GlH4i8UkMn",
        "colab_type": "code",
        "colab": {}
      },
      "cell_type": "code",
      "source": [
        "#include <stdio.h>\n",
        "\n",
        "void fonk(int *beginning, int *end)\n",
        " {\n",
        "    int * p;\n",
        "    for (p = beginning; p <=end; p++)\n",
        "    printf(\"%d\\n\", *p);\n",
        "    printf(\"\\n\");\n",
        "}\n",
        "int main()\n",
        "{\n",
        "    int arr[7] = {0, 10, 20, 30, 40, 50, 60};\n",
        "    fonk(arr, &arr[5]);\n",
        "    fonk(arr, &arr[3]);\n",
        "    fonk(arr, arr+3);\n",
        "\n",
        "return 0;\n",
        "}"
      ],
      "execution_count": 0,
      "outputs": []
    },
    {
      "metadata": {
        "id": "Dsbc7Q75WEgI",
        "colab_type": "text"
      },
      "cell_type": "markdown",
      "source": [
        "# Pointer Arithmetics\n",
        "In the above example this function tells the compiler to print out the values of elements of the array from zero to the specified element.\n",
        "\n",
        "In this example  printing\n",
        "\n",
        "> fonk(arr, &arr[5]);\n",
        "\n",
        " gives us the first 6 element.\n",
        "\n",
        "Similarly, printing\n",
        "\n",
        "> fonk(arr, &arr[3]);\n",
        "\n",
        "     fonk(arr, arr+3);\n",
        "\n",
        " gives us the first 4 element.\n",
        "\n"
      ]
    }
  ]
}