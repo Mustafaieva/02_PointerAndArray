{
  "nbformat": 4,
  "nbformat_minor": 0,
  "metadata": {
    "colab": {
      "name": "Untitled3.ipynb",
      "version": "0.3.2",
      "provenance": [],
      "include_colab_link": true
    },
    "kernelspec": {
      "name": "python2",
      "display_name": "Python 2"
    }
  },
  "cells": [
    {
      "cell_type": "markdown",
      "metadata": {
        "id": "view-in-github",
        "colab_type": "text"
      },
      "source": [
        "<a href=\"https://colab.research.google.com/github/Mustafaieva/02_PointerAndArray/blob/master/Example%20%231..ipynb\" target=\"_parent\"><img src=\"https://colab.research.google.com/assets/colab-badge.svg\" alt=\"Open In Colab\"/></a>"
      ]
    },
    {
      "metadata": {
        "id": "wJmU0MKY3Y7k",
        "colab_type": "code",
        "colab": {}
      },
      "cell_type": "code",
      "source": [
        "#include <stdio.h>\n",
        "\n",
        "\n",
        "int main()\n",
        " {\n",
        "    int arr[3] = {100, 500, 1500};\n",
        "\n",
        "    printf(\"%d\\n\", arr[2]);\n",
        "    printf(\"%d\\n\", &arr[2]);\n",
        "    printf(\"%d\\n\", arr+1);\n",
        "    printf(\"%d\\n\", *(arr+1));\n",
        "\n",
        "return 0;\n",
        "}\n"
      ],
      "execution_count": 0,
      "outputs": []
    },
    {
      "metadata": {
        "id": "H0vZWZgD3aXG",
        "colab_type": "text"
      },
      "cell_type": "markdown",
      "source": [
        "# New Section\n",
        "In this example, &arr[] (address of the  elements of array ) is assigned to the pointer. Hence, printing  arr[2]  gives us the third element. Similarly, printing *(arr+ 1) gives us the second element. \n",
        "\n",
        "> printf(\"%d\\n\", arr[2]);\n",
        "\n",
        "     printf(\"%d\\n\", *(arr+1));\n",
        "     \n",
        "In this example, &arr[2] printed the address of the third element of array:\n",
        "\n",
        ">  printf(\"%d\\n\", &arr[2]);\n",
        "\n",
        "and the adress of the second element of array:\n",
        "\n",
        "    printf(\"%d\\n\", arr+1);\n",
        "\n",
        "\n",
        "     \n",
        "     \n",
        "\n",
        "\n",
        "\n"
      ]
    }
  ]
}