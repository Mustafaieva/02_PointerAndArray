{
  "nbformat": 4,
  "nbformat_minor": 0,
  "metadata": {
    "colab": {
      "name": "Untitled18.ipynb",
      "version": "0.3.2",
      "provenance": [],
      "include_colab_link": true
    },
    "kernelspec": {
      "name": "python2",
      "display_name": "Python 2"
    }
  },
  "cells": [
    {
      "cell_type": "markdown",
      "metadata": {
        "id": "view-in-github",
        "colab_type": "text"
      },
      "source": [
        "<a href=\"https://colab.research.google.com/github/Mustafaieva/02_PointerAndArray/blob/master/Example%20%233..ipynb\" target=\"_parent\"><img src=\"https://colab.research.google.com/assets/colab-badge.svg\" alt=\"Open In Colab\"/></a>"
      ]
    },
    {
      "metadata": {
        "id": "jCUUCvde7pfU",
        "colab_type": "code",
        "colab": {}
      },
      "cell_type": "code",
      "source": [
        "#include <stdio.h>\n",
        "\n",
        "\n",
        "int main()\n",
        " {\n",
        "    int arr[5];\n",
        "    int *ptr;\n",
        "    \n",
        "    printf(\"sizeof(array) : %d\\n\", sizeof(arr));\n",
        "    printf(\"sizeof(ptr) : %d\\n\", sizeof(ptr));\n",
        "    \n",
        "return 0;\n",
        "}"
      ],
      "execution_count": 0,
      "outputs": []
    },
    {
      "metadata": {
        "id": "aMV85wbI7qPX",
        "colab_type": "text"
      },
      "cell_type": "markdown",
      "source": [
        "# Sizeof Operator in C\n",
        "\n",
        "We're grabbing the size of the array.\n",
        "\n",
        "> printf(\"sizeof(array) : %d\\n\", sizeof(arr));\n",
        "\n",
        "Since arr is an array of ints, the size of the object is still called the size of the object (5 * sizeof (int)) and just happens to be 20 on your machine.\n",
        "\n",
        "Now  *ptr is value is nothing but an address which is of 4 bytes. The compiler to print out the adsress of 'ptr':\n",
        "\n",
        "\n",
        ">    printf(\"sizeof(ptr) : %d\\n\", sizeof(ptr));\n"
      ]
    }
  ]
}