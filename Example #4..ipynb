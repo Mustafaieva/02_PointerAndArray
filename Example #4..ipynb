{
  "nbformat": 4,
  "nbformat_minor": 0,
  "metadata": {
    "colab": {
      "name": "Untitled6.ipynb",
      "version": "0.3.2",
      "provenance": [],
      "include_colab_link": true
    },
    "kernelspec": {
      "name": "python2",
      "display_name": "Python 2"
    }
  },
  "cells": [
    {
      "cell_type": "markdown",
      "metadata": {
        "id": "view-in-github",
        "colab_type": "text"
      },
      "source": [
        "<a href=\"https://colab.research.google.com/github/Mustafaieva/02_PointerAndArray/blob/master/Example%20%234..ipynb\" target=\"_parent\"><img src=\"https://colab.research.google.com/assets/colab-badge.svg\" alt=\"Open In Colab\"/></a>"
      ]
    },
    {
      "metadata": {
        "id": "Dd9FUpvGt5x-",
        "colab_type": "code",
        "colab": {}
      },
      "cell_type": "code",
      "source": [
        "#include <stdio.h>\n",
        "\n",
        "int main()\n",
        "{\n",
        " int a=5;\n",
        " int * a_ptr = &a;\n",
        "\n",
        " printf(\"Start address of a: %u\\n\\n\", a_ptr);\n",
        " \n",
        " a_ptr++;\n",
        " printf(\"This is the address after increasing by 1: %u\\n\\n\", a_ptr);\n",
        " \n",
        " a_ptr -= 2;\n",
        " printf(\"This is the address after decreasing by 2: %u\\n\\n\", a_ptr);\n",
        "\n",
        " a_ptr--;\n",
        " printf(\"This is the address after decreasing by 1: %u\\n\\n\", a_ptr);\n",
        " \n",
        " printf(\"These are the two next addresses of a: %u\\n\", (&a) +2);\n",
        " printf(\"This is the previous address of 'a': %u\\n\", (&a) -1);\n",
        " return 0;\n",
        "}\n"
      ],
      "execution_count": 0,
      "outputs": []
    },
    {
      "metadata": {
        "id": "hOABPfU9t642",
        "colab_type": "text"
      },
      "cell_type": "markdown",
      "source": [
        "# Pointer Arithmetic\n",
        "\n",
        "In this example, &a (address of a) is assigned to the pointer ptr:\n",
        "\n",
        "\n",
        ">  int * a_ptr = &a;\n",
        "\n",
        "\n",
        "This code tells the compiler to print out the adsress of 'a':\n",
        "\n",
        "> printf(\"Start address of a: %u\\n\\n\", a_ptr);\n",
        "\n",
        "\n",
        ">  a_ptr++;       //add 1 to the address of element     \n",
        "\n",
        "\n",
        "There is a difference of 4 bytes between two consecutive elements. This is because the size of int is 4 bytes,  so the address of the next element is 4 more.\n",
        "\n",
        ">  a_ptr -= 2;       //subtract 2 from the element address.\n",
        "\n",
        "Similarly, the address of element  becomes 4 less.\n",
        "\n",
        "> a_ptr--;        //subtract 1 from the element address.\n",
        "\n",
        "In this example,  (&a) +2) , add 2 to the the adsress of 'a' and (&a) -1) - subtract 1 from the element address.\n",
        "\n",
        "\n",
        "\n",
        "\n",
        "\n",
        "\n",
        "\n",
        "\n",
        "\n",
        "\n",
        "\n",
        "\n",
        "\n",
        "\n",
        "\n",
        "\n",
        "\n",
        "\n",
        "\n",
        "\n"
      ]
    }
  ]
}