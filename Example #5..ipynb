{
  "nbformat": 4,
  "nbformat_minor": 0,
  "metadata": {
    "colab": {
      "name": "Untitled7.ipynb",
      "version": "0.3.2",
      "provenance": [],
      "include_colab_link": true
    },
    "kernelspec": {
      "name": "python2",
      "display_name": "Python 2"
    }
  },
  "cells": [
    {
      "cell_type": "markdown",
      "metadata": {
        "id": "view-in-github",
        "colab_type": "text"
      },
      "source": [
        "<a href=\"https://colab.research.google.com/github/Mustafaieva/02_PointerAndArray/blob/master/Example%20%235..ipynb\" target=\"_parent\"><img src=\"https://colab.research.google.com/assets/colab-badge.svg\" alt=\"Open In Colab\"/></a>"
      ]
    },
    {
      "metadata": {
        "id": "BAK0nkIMKzOO",
        "colab_type": "code",
        "colab": {}
      },
      "cell_type": "code",
      "source": [
        "#include <stdio.h>\n",
        "\n",
        "void fonk1(int d[], int N)\n",
        " {\n",
        "    int i;\n",
        "    for (i = 0 ; i < N ; i++)\n",
        "    printf(\"%d\\n\", d[i]);\n",
        "    printf(\"\\n\");\n",
        "}\n",
        "void fonk2(int *d, int N)\n",
        "{\n",
        "    int i;\n",
        "\n",
        "    for (i = 0 ; i < N ; i++)\n",
        "    printf(\"%d\\n\", d[i]);\n",
        "    printf(\"\\n\");\n",
        "}\n",
        "int main()\n",
        "{\n",
        "    int arr[7] = {0, 10, 20, 30, 40, 50, 60};\n",
        "\n",
        "    fonk1(arr, 2);\n",
        "    fonk2(arr, 2);\n",
        "    fonk1(&arr[2], 3);\n",
        "    fonk1(arr+2, 3);\n",
        "return 0;\n",
        "}"
      ],
      "execution_count": 0,
      "outputs": []
    },
    {
      "metadata": {
        "id": "2uTYTujvLFgx",
        "colab_type": "text"
      },
      "cell_type": "markdown",
      "source": [
        "# Pointer Arithmetics\n",
        "\n",
        "In function number 1,  code tells the compiler to print out  value of the array from zero to the specified element. \n",
        "\n",
        "In function number 2, the code prints the same. However, in this function, we have a pointer *d that points to the 0th element of the array.  it's the same as just d[ ].\n",
        "\n",
        "> fonk1(arr, 2);         //compiler prints the values  of the first two elements;\n",
        "\n",
        "\n",
        "> fonk2(arr, 2);           //compiler prints the values  of the first two elements too;\n",
        "\n",
        " The compiler prints the values of three elements, starting with the third:\n",
        " \n",
        "> fonk1(&arr[2], 3);\n",
        "\n",
        "\n",
        ">   fonk1(arr+2, 3);\n",
        "\n",
        "\n",
        "\n",
        "\n",
        "\n",
        "\n",
        "\n",
        "\n",
        "\n",
        "\n"
      ]
    }
  ]
}